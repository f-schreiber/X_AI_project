{
 "cells": [
  {
   "cell_type": "code",
   "execution_count": 1,
   "id": "d2c5d273-ac1c-4d7a-935a-2d5910153b60",
   "metadata": {},
   "outputs": [],
   "source": [
    "import torch\n",
    "import torch.nn as nn\n",
    "import torch.optim as optim\n",
    "from torchvision import datasets, models, transforms\n",
    "from torch.utils.data import DataLoader, random_split, WeightedRandomSampler\n",
    "import numpy as np\n",
    "import pandas as pd\n",
    "from sklearn.metrics import precision_score, recall_score \n",
    "\n",
    "from tqdm import tqdm\n",
    "\n",
    "import random"
   ]
  },
  {
   "cell_type": "code",
   "execution_count": 2,
   "id": "08baabef-6aad-487f-8c7c-084e627f5cef",
   "metadata": {},
   "outputs": [],
   "source": [
    "transform = transforms.Compose([  \n",
    "    transforms.ToTensor(),\n",
    "    transforms.RandomHorizontalFlip(p=0.5),\n",
    "    transforms.Normalize(mean=[0.485, 0.456, 0.406],\n",
    "                         std=[0.229, 0.224, 0.225])\n",
    "])\n",
    "dataset = datasets.ImageFolder(\"PKG - AML-Cytomorphology_LMU/\",transform)"
   ]
  },
  {
   "cell_type": "code",
   "execution_count": 11,
   "id": "de0c471b-05bf-40b5-a2dd-b0900a2941f4",
   "metadata": {},
   "outputs": [
    {
     "data": {
      "text/plain": [
       "{0: 79,\n",
       " 1: 78,\n",
       " 2: 424,\n",
       " 3: 15,\n",
       " 4: 11,\n",
       " 5: 3937,\n",
       " 6: 15,\n",
       " 7: 26,\n",
       " 8: 1789,\n",
       " 9: 42,\n",
       " 10: 3268,\n",
       " 11: 109,\n",
       " 12: 8484,\n",
       " 13: 18,\n",
       " 14: 70}"
      ]
     },
     "execution_count": 11,
     "metadata": {},
     "output_type": "execute_result"
    }
   ],
   "source": [
    "from collections import Counter; counts = dict(Counter(dataset.targets))\n",
    "counts"
   ]
  },
  {
   "cell_type": "code",
   "execution_count": 3,
   "id": "8d2082cf-fc92-4f7b-8741-42609835ac1f",
   "metadata": {},
   "outputs": [
    {
     "name": "stderr",
     "output_type": "stream",
     "text": [
      "                                                               "
     ]
    },
    {
     "name": "stdout",
     "output_type": "stream",
     "text": [
      "\n",
      "Epoch [1/20]\n",
      "Loss: 8.2870, Test Accuracy: 0.9333\n",
      " Class  Precision  Sensitivity (Recall)  Class Size\n",
      "     0   0.538462              0.823529          17\n",
      "     1   0.615385              1.000000          16\n",
      "     2   0.888889              0.947368          76\n",
      "     3   1.000000              0.333333           3\n",
      "     4   1.000000              0.500000           2\n",
      "     5   0.966667              0.927110         782\n",
      "     6   0.000000              0.000000           5\n",
      "     7   0.500000              1.000000           6\n",
      "     8   0.848901              0.903509         342\n",
      "     9   0.444444              0.666667           6\n",
      "    10   0.941267              0.934049         652\n",
      "    11   0.203704              0.440000          25\n",
      "    12   0.989796              0.955388        1726\n",
      "    13   0.250000              0.750000           4\n",
      "    14   0.347826              0.727273          11\n"
     ]
    },
    {
     "name": "stderr",
     "output_type": "stream",
     "text": [
      "                                                               "
     ]
    },
    {
     "name": "stdout",
     "output_type": "stream",
     "text": [
      "\n",
      "Epoch [2/20]\n",
      "Loss: 3.1559, Test Accuracy: 0.9494\n",
      " Class  Precision  Sensitivity (Recall)  Class Size\n",
      "     0   0.636364              0.823529          17\n",
      "     1   0.777778              0.875000          16\n",
      "     2   0.935897              0.960526          76\n",
      "     3   1.000000              0.333333           3\n",
      "     4   0.000000              0.000000           2\n",
      "     5   0.957962              0.961637         782\n",
      "     6   0.000000              0.000000           5\n",
      "     7   0.600000              1.000000           6\n",
      "     8   0.852547              0.929825         342\n",
      "     9   0.444444              0.666667           6\n",
      "    10   0.966667              0.934049         652\n",
      "    11   0.264706              0.360000          25\n",
      "    12   0.991140              0.972190        1726\n",
      "    13   0.375000              0.750000           4\n",
      "    14   0.500000              0.545455          11\n"
     ]
    },
    {
     "name": "stderr",
     "output_type": "stream",
     "text": [
      "                                                               "
     ]
    },
    {
     "name": "stdout",
     "output_type": "stream",
     "text": [
      "\n",
      "Epoch [3/20]\n",
      "Loss: 2.8971, Test Accuracy: 0.9540\n",
      " Class  Precision  Sensitivity (Recall)  Class Size\n",
      "     0   0.750000              0.705882          17\n",
      "     1   0.789474              0.937500          16\n",
      "     2   0.973333              0.960526          76\n",
      "     3   1.000000              0.333333           3\n",
      "     4   0.000000              0.000000           2\n",
      "     5   0.955808              0.968031         782\n",
      "     6   0.000000              0.000000           5\n",
      "     7   0.333333              0.333333           6\n",
      "     8   0.849866              0.926901         342\n",
      "     9   0.750000              0.500000           6\n",
      "    10   0.956923              0.953988         652\n",
      "    11   0.312500              0.200000          25\n",
      "    12   0.989468              0.979722        1726\n",
      "    13   0.333333              0.250000           4\n",
      "    14   0.555556              0.454545          11\n"
     ]
    },
    {
     "name": "stderr",
     "output_type": "stream",
     "text": [
      "                                                               "
     ]
    },
    {
     "name": "stdout",
     "output_type": "stream",
     "text": [
      "\n",
      "Epoch [4/20]\n",
      "Loss: 2.7961, Test Accuracy: 0.9575\n",
      " Class  Precision  Sensitivity (Recall)  Class Size\n",
      "     0   0.764706              0.764706          17\n",
      "     1   0.882353              0.937500          16\n",
      "     2   0.935897              0.960526          76\n",
      "     3   1.000000              0.333333           3\n",
      "     4   0.000000              0.000000           2\n",
      "     5   0.960908              0.974425         782\n",
      "     6   0.000000              0.000000           5\n",
      "     7   0.375000              0.500000           6\n",
      "     8   0.876056              0.909357         342\n",
      "     9   0.750000              0.500000           6\n",
      "    10   0.957055              0.957055         652\n",
      "    11   0.470588              0.320000          25\n",
      "    12   0.990076              0.982619        1726\n",
      "    13   0.333333              0.500000           4\n",
      "    14   0.500000              0.545455          11\n"
     ]
    },
    {
     "name": "stderr",
     "output_type": "stream",
     "text": [
      "                                                               "
     ]
    },
    {
     "name": "stdout",
     "output_type": "stream",
     "text": [
      "\n",
      "Epoch [5/20]\n",
      "Loss: 2.7304, Test Accuracy: 0.9575\n",
      " Class  Precision  Sensitivity (Recall)  Class Size\n",
      "     0   0.722222              0.764706          17\n",
      "     1   0.937500              0.937500          16\n",
      "     2   0.972973              0.947368          76\n",
      "     3   1.000000              0.333333           3\n",
      "     4   0.000000              0.000000           2\n",
      "     5   0.958333              0.970588         782\n",
      "     6   0.000000              0.000000           5\n",
      "     7   0.375000              0.500000           6\n",
      "     8   0.886364              0.912281         342\n",
      "     9   0.800000              0.666667           6\n",
      "    10   0.951442              0.961656         652\n",
      "    11   0.500000              0.320000          25\n",
      "    12   0.987784              0.983778        1726\n",
      "    13   0.000000              0.000000           4\n",
      "    14   0.416667              0.454545          11\n"
     ]
    },
    {
     "name": "stderr",
     "output_type": "stream",
     "text": [
      "                                                               "
     ]
    },
    {
     "name": "stdout",
     "output_type": "stream",
     "text": [
      "\n",
      "Epoch [6/20]\n",
      "Loss: 2.6919, Test Accuracy: 0.9573\n",
      " Class  Precision  Sensitivity (Recall)  Class Size\n",
      "     0   0.631579              0.705882          17\n",
      "     1   0.833333              0.937500          16\n",
      "     2   0.948052              0.960526          76\n",
      "     3   1.000000              0.333333           3\n",
      "     4   0.000000              0.000000           2\n",
      "     5   0.964557              0.974425         782\n",
      "     6   0.000000              0.000000           5\n",
      "     7   0.285714              0.333333           6\n",
      "     8   0.885057              0.900585         342\n",
      "     9   0.333333              0.166667           6\n",
      "    10   0.950226              0.966258         652\n",
      "    11   0.538462              0.280000          25\n",
      "    12   0.988365              0.984357        1726\n",
      "    13   0.250000              0.250000           4\n",
      "    14   0.454545              0.454545          11\n"
     ]
    },
    {
     "name": "stderr",
     "output_type": "stream",
     "text": [
      "                                                               "
     ]
    },
    {
     "name": "stdout",
     "output_type": "stream",
     "text": [
      "\n",
      "Epoch [7/20]\n",
      "Loss: 2.6722, Test Accuracy: 0.9564\n",
      " Class  Precision  Sensitivity (Recall)  Class Size\n",
      "     0   0.714286              0.588235          17\n",
      "     1   0.933333              0.875000          16\n",
      "     2   0.972973              0.947368          76\n",
      "     3   1.000000              0.333333           3\n",
      "     4   0.000000              0.000000           2\n",
      "     5   0.954831              0.973146         782\n",
      "     6   0.000000              0.000000           5\n",
      "     7   0.400000              0.333333           6\n",
      "     8   0.883523              0.909357         342\n",
      "     9   1.000000              0.500000           6\n",
      "    10   0.945537              0.958589         652\n",
      "    11   0.363636              0.160000          25\n",
      "    12   0.985541              0.987254        1726\n",
      "    13   0.000000              0.000000           4\n",
      "    14   0.600000              0.545455          11\n"
     ]
    },
    {
     "name": "stderr",
     "output_type": "stream",
     "text": [
      "                                                               "
     ]
    },
    {
     "name": "stdout",
     "output_type": "stream",
     "text": [
      "\n",
      "Epoch [8/20]\n",
      "Loss: 2.6544, Test Accuracy: 0.9570\n",
      " Class  Precision  Sensitivity (Recall)  Class Size\n",
      "     0   0.733333              0.647059          17\n",
      "     1   0.875000              0.875000          16\n",
      "     2   0.986486              0.960526          76\n",
      "     3   1.000000              0.333333           3\n",
      "     4   0.000000              0.000000           2\n",
      "     5   0.950249              0.976982         782\n",
      "     6   0.000000              0.000000           5\n",
      "     7   0.333333              0.333333           6\n",
      "     8   0.886297              0.888889         342\n",
      "     9   0.800000              0.666667           6\n",
      "    10   0.941704              0.966258         652\n",
      "    11   0.545455              0.240000          25\n",
      "    12   0.989529              0.985516        1726\n",
      "    13   0.000000              0.000000           4\n",
      "    14   0.625000              0.454545          11\n"
     ]
    },
    {
     "name": "stderr",
     "output_type": "stream",
     "text": [
      "                                                               "
     ]
    },
    {
     "name": "stdout",
     "output_type": "stream",
     "text": [
      "\n",
      "Epoch [9/20]\n",
      "Loss: 2.6391, Test Accuracy: 0.9567\n",
      " Class  Precision  Sensitivity (Recall)  Class Size\n",
      "     0   0.785714              0.647059          17\n",
      "     1   0.875000              0.875000          16\n",
      "     2   0.972973              0.947368          76\n",
      "     3   1.000000              0.333333           3\n",
      "     4   0.000000              0.000000           2\n",
      "     5   0.960710              0.969309         782\n",
      "     6   0.000000              0.000000           5\n",
      "     7   0.666667              0.666667           6\n",
      "     8   0.882857              0.903509         342\n",
      "     9   0.500000              0.333333           6\n",
      "    10   0.941791              0.967791         652\n",
      "    11   0.400000              0.160000          25\n",
      "    12   0.985532              0.986674        1726\n",
      "    13   0.000000              0.000000           4\n",
      "    14   0.625000              0.454545          11\n"
     ]
    },
    {
     "name": "stderr",
     "output_type": "stream",
     "text": [
      "                                                                "
     ]
    },
    {
     "name": "stdout",
     "output_type": "stream",
     "text": [
      "\n",
      "Epoch [10/20]\n",
      "Loss: 2.6280, Test Accuracy: 0.9592\n",
      " Class  Precision  Sensitivity (Recall)  Class Size\n",
      "     0   0.736842              0.823529          17\n",
      "     1   0.937500              0.937500          16\n",
      "     2   0.972973              0.947368          76\n",
      "     3   1.000000              0.333333           3\n",
      "     4   0.000000              0.000000           2\n",
      "     5   0.963384              0.975703         782\n",
      "     6   0.000000              0.000000           5\n",
      "     7   0.333333              0.333333           6\n",
      "     8   0.889855              0.897661         342\n",
      "     9   0.600000              0.500000           6\n",
      "    10   0.947289              0.964724         652\n",
      "    11   0.400000              0.160000          25\n",
      "    12   0.986705              0.988992        1726\n",
      "    13   0.500000              0.250000           4\n",
      "    14   0.625000              0.454545          11\n"
     ]
    },
    {
     "name": "stderr",
     "output_type": "stream",
     "text": [
      "                                                                "
     ]
    },
    {
     "name": "stdout",
     "output_type": "stream",
     "text": [
      "\n",
      "Epoch [11/20]\n",
      "Loss: 2.6197, Test Accuracy: 0.9567\n",
      " Class  Precision  Sensitivity (Recall)  Class Size\n",
      "     0   0.714286              0.588235          17\n",
      "     1   0.937500              0.937500          16\n",
      "     2   0.986301              0.947368          76\n",
      "     3   1.000000              0.333333           3\n",
      "     4   0.000000              0.000000           2\n",
      "     5   0.958491              0.974425         782\n",
      "     6   0.000000              0.000000           5\n",
      "     7   0.500000              0.500000           6\n",
      "     8   0.890805              0.906433         342\n",
      "     9   0.750000              0.500000           6\n",
      "    10   0.944193              0.960123         652\n",
      "    11   0.272727              0.120000          25\n",
      "    12   0.983834              0.987254        1726\n",
      "    13   0.000000              0.000000           4\n",
      "    14   0.555556              0.454545          11\n"
     ]
    },
    {
     "name": "stderr",
     "output_type": "stream",
     "text": [
      "                                                                "
     ]
    },
    {
     "name": "stdout",
     "output_type": "stream",
     "text": [
      "\n",
      "Epoch [12/20]\n",
      "Loss: 2.6120, Test Accuracy: 0.9578\n",
      " Class  Precision  Sensitivity (Recall)  Class Size\n",
      "     0   0.705882              0.705882          17\n",
      "     1   0.882353              0.937500          16\n",
      "     2   0.986301              0.947368          76\n",
      "     3   1.000000              0.333333           3\n",
      "     4   0.000000              0.000000           2\n",
      "     5   0.958491              0.974425         782\n",
      "     6   0.000000              0.000000           5\n",
      "     7   0.500000              0.500000           6\n",
      "     8   0.892442              0.897661         342\n",
      "     9   0.666667              0.333333           6\n",
      "    10   0.941529              0.963190         652\n",
      "    11   0.500000              0.160000          25\n",
      "    12   0.985566              0.988992        1726\n",
      "    13   0.000000              0.000000           4\n",
      "    14   0.555556              0.454545          11\n"
     ]
    },
    {
     "name": "stderr",
     "output_type": "stream",
     "text": [
      "                                                                "
     ]
    },
    {
     "name": "stdout",
     "output_type": "stream",
     "text": [
      "\n",
      "Epoch [13/20]\n",
      "Loss: 2.6086, Test Accuracy: 0.9570\n",
      " Class  Precision  Sensitivity (Recall)  Class Size\n",
      "     0   0.705882              0.705882          17\n",
      "     1   0.875000              0.875000          16\n",
      "     2   0.986486              0.960526          76\n",
      "     3   1.000000              0.333333           3\n",
      "     4   0.000000              0.000000           2\n",
      "     5   0.956085              0.974425         782\n",
      "     6   0.000000              0.000000           5\n",
      "     7   0.500000              0.500000           6\n",
      "     8   0.887608              0.900585         342\n",
      "     9   0.800000              0.666667           6\n",
      "    10   0.942857              0.961656         652\n",
      "    11   0.363636              0.160000          25\n",
      "    12   0.987239              0.986095        1726\n",
      "    13   0.000000              0.000000           4\n",
      "    14   0.555556              0.454545          11\n"
     ]
    },
    {
     "name": "stderr",
     "output_type": "stream",
     "text": [
      "                                                                "
     ]
    },
    {
     "name": "stdout",
     "output_type": "stream",
     "text": [
      "\n",
      "Epoch [14/20]\n",
      "Loss: 2.6038, Test Accuracy: 0.9581\n",
      " Class  Precision  Sensitivity (Recall)  Class Size\n",
      "     0   0.769231              0.588235          17\n",
      "     1   0.875000              0.875000          16\n",
      "     2   0.986301              0.947368          76\n",
      "     3   1.000000              0.333333           3\n",
      "     4   0.000000              0.000000           2\n",
      "     5   0.957447              0.978261         782\n",
      "     6   0.000000              0.000000           5\n",
      "     7   0.333333              0.333333           6\n",
      "     8   0.883523              0.909357         342\n",
      "     9   0.600000              0.500000           6\n",
      "    10   0.953172              0.967791         652\n",
      "    11   0.363636              0.160000          25\n",
      "    12   0.984954              0.986095        1726\n",
      "    13   0.000000              0.000000           4\n",
      "    14   0.666667              0.363636          11\n"
     ]
    },
    {
     "name": "stderr",
     "output_type": "stream",
     "text": [
      "                                                                "
     ]
    },
    {
     "name": "stdout",
     "output_type": "stream",
     "text": [
      "\n",
      "Epoch [15/20]\n",
      "Loss: 2.5999, Test Accuracy: 0.9575\n",
      " Class  Precision  Sensitivity (Recall)  Class Size\n",
      "     0   0.800000              0.705882          17\n",
      "     1   0.933333              0.875000          16\n",
      "     2   0.973333              0.960526          76\n",
      "     3   1.000000              0.333333           3\n",
      "     4   0.000000              0.000000           2\n",
      "     5   0.956140              0.975703         782\n",
      "     6   0.000000              0.000000           5\n",
      "     7   0.333333              0.333333           6\n",
      "     8   0.880342              0.903509         342\n",
      "     9   0.666667              0.333333           6\n",
      "    10   0.949924              0.960123         652\n",
      "    11   0.384615              0.200000          25\n",
      "    12   0.987826              0.987254        1726\n",
      "    13   0.333333              0.250000           4\n",
      "    14   0.555556              0.454545          11\n"
     ]
    },
    {
     "name": "stderr",
     "output_type": "stream",
     "text": [
      "                                                                "
     ]
    },
    {
     "name": "stdout",
     "output_type": "stream",
     "text": [
      "\n",
      "Epoch [16/20]\n",
      "Loss: 2.5985, Test Accuracy: 0.9575\n",
      " Class  Precision  Sensitivity (Recall)  Class Size\n",
      "     0   0.733333              0.647059          17\n",
      "     1   0.882353              0.937500          16\n",
      "     2   0.986486              0.960526          76\n",
      "     3   1.000000              0.333333           3\n",
      "     4   0.000000              0.000000           2\n",
      "     5   0.959900              0.979540         782\n",
      "     6   0.000000              0.000000           5\n",
      "     7   0.333333              0.333333           6\n",
      "     8   0.887283              0.897661         342\n",
      "     9   0.800000              0.666667           6\n",
      "    10   0.944277              0.961656         652\n",
      "    11   0.400000              0.160000          25\n",
      "    12   0.987239              0.986095        1726\n",
      "    13   0.000000              0.000000           4\n",
      "    14   0.454545              0.454545          11\n"
     ]
    },
    {
     "name": "stderr",
     "output_type": "stream",
     "text": [
      "                                                                "
     ]
    },
    {
     "name": "stdout",
     "output_type": "stream",
     "text": [
      "\n",
      "Epoch [17/20]\n",
      "Loss: 2.5921, Test Accuracy: 0.9567\n",
      " Class  Precision  Sensitivity (Recall)  Class Size\n",
      "     0   0.714286              0.588235          17\n",
      "     1   0.882353              0.937500          16\n",
      "     2   0.986301              0.947368          76\n",
      "     3   1.000000              0.333333           3\n",
      "     4   0.000000              0.000000           2\n",
      "     5   0.958595              0.976982         782\n",
      "     6   0.000000              0.000000           5\n",
      "     7   0.428571              0.500000           6\n",
      "     8   0.890173              0.900585         342\n",
      "     9   0.600000              0.500000           6\n",
      "    10   0.946889              0.957055         652\n",
      "    11   0.363636              0.160000          25\n",
      "    12   0.984420              0.988413        1726\n",
      "    13   0.000000              0.000000           4\n",
      "    14   0.444444              0.363636          11\n"
     ]
    },
    {
     "name": "stderr",
     "output_type": "stream",
     "text": [
      "                                                                "
     ]
    },
    {
     "name": "stdout",
     "output_type": "stream",
     "text": [
      "\n",
      "Epoch [18/20]\n",
      "Loss: 2.5905, Test Accuracy: 0.9575\n",
      " Class  Precision  Sensitivity (Recall)  Class Size\n",
      "     0   0.785714              0.647059          17\n",
      "     1   0.882353              0.937500          16\n",
      "     2   0.972973              0.947368          76\n",
      "     3   1.000000              0.333333           3\n",
      "     4   0.000000              0.000000           2\n",
      "     5   0.957340              0.975703         782\n",
      "     6   0.000000              0.000000           5\n",
      "     7   0.250000              0.166667           6\n",
      "     8   0.878531              0.909357         342\n",
      "     9   0.666667              0.333333           6\n",
      "    10   0.945865              0.964724         652\n",
      "    11   0.454545              0.200000          25\n",
      "    12   0.986667              0.986095        1726\n",
      "    13   0.000000              0.000000           4\n",
      "    14   0.625000              0.454545          11\n"
     ]
    },
    {
     "name": "stderr",
     "output_type": "stream",
     "text": [
      "                                                                "
     ]
    },
    {
     "name": "stdout",
     "output_type": "stream",
     "text": [
      "\n",
      "Epoch [19/20]\n",
      "Loss: 2.5905, Test Accuracy: 0.9592\n",
      " Class  Precision  Sensitivity (Recall)  Class Size\n",
      "     0   0.800000              0.705882          17\n",
      "     1   0.933333              0.875000          16\n",
      "     2   0.960000              0.947368          76\n",
      "     3   1.000000              0.333333           3\n",
      "     4   0.000000              0.000000           2\n",
      "     5   0.961055              0.978261         782\n",
      "     6   0.000000              0.000000           5\n",
      "     7   0.400000              0.333333           6\n",
      "     8   0.890805              0.906433         342\n",
      "     9   1.000000              0.166667           6\n",
      "    10   0.945946              0.966258         652\n",
      "    11   0.363636              0.160000          25\n",
      "    12   0.986119              0.987833        1726\n",
      "    13   0.500000              0.250000           4\n",
      "    14   0.666667              0.545455          11\n"
     ]
    },
    {
     "name": "stderr",
     "output_type": "stream",
     "text": [
      "                                                                "
     ]
    },
    {
     "name": "stdout",
     "output_type": "stream",
     "text": [
      "\n",
      "Epoch [20/20]\n",
      "Loss: 2.5864, Test Accuracy: 0.9581\n",
      " Class  Precision  Sensitivity (Recall)  Class Size\n",
      "     0   0.714286              0.588235          17\n",
      "     1   0.937500              0.937500          16\n",
      "     2   0.972973              0.947368          76\n",
      "     3   1.000000              0.333333           3\n",
      "     4   0.000000              0.000000           2\n",
      "     5   0.958543              0.975703         782\n",
      "     6   0.000000              0.000000           5\n",
      "     7   0.333333              0.333333           6\n",
      "     8   0.892442              0.897661         342\n",
      "     9   1.000000              0.666667           6\n",
      "    10   0.944361              0.963190         652\n",
      "    11   0.500000              0.200000          25\n",
      "    12   0.985557              0.988413        1726\n",
      "    13   0.000000              0.000000           4\n",
      "    14   0.545455              0.545455          11\n"
     ]
    }
   ],
   "source": [
    "device = torch.device(\"cuda\" if torch.cuda.is_available() else \"cpu\")\n",
    "\n",
    "# ✅ Make sure ToTensor comes BEFORE Normalize\n",
    "\n",
    "\n",
    "# Train-test split\n",
    "train_size = int(0.8 * len(dataset)) \n",
    "test_size = len(dataset) - train_size\n",
    "train_dataset, test_dataset = random_split(dataset, [train_size, test_size])\n",
    "\n",
    "# ✅ Compute class counts from training set\n",
    "targets = [train_dataset[i][1] for i in range(len(train_dataset))]\n",
    "class_counts = np.bincount(targets)\n",
    "class_weights = 1. / class_counts\n",
    "sample_weights = [class_weights[t] for t in targets]\n",
    "num_samples_epoch = 8000 * len(dataset.classes)\n",
    "\n",
    "# ✅ WeightedRandomSampler\n",
    "\n",
    "random.seed(0)\n",
    "\n",
    "sampler = WeightedRandomSampler(weights=sample_weights, \n",
    "                                num_samples=num_samples_epoch, \n",
    "                                replacement=True)\n",
    "\n",
    "# ✅ DataLoaders\n",
    "train_loader = DataLoader(train_dataset, batch_size=96, sampler=sampler, num_workers=4)\n",
    "test_loader = DataLoader(test_dataset, batch_size=64, shuffle=False, num_workers=4)\n",
    "\n",
    "# Model\n",
    "model = models.resnext50_32x4d(weights=\"IMAGENET1K_V2\")\n",
    "num_classes = len(dataset.classes)\n",
    "model.fc = nn.Linear(model.fc.in_features, num_classes)\n",
    "model = model.to(device)\n",
    "\n",
    "criterion = nn.CrossEntropyLoss(label_smoothing=0.05)\n",
    "optimizer = optim.SGD(model.parameters(), lr=1e-3, momentum=0.9, weight_decay=1e-4)\n",
    "\n",
    "num_epochs = 20\n",
    "\n",
    "for epoch in range(num_epochs):\n",
    "    model.train()\n",
    "    running_loss = 0.0\n",
    "    pbar = tqdm(train_loader, desc=f\"Epoch {epoch+1}/{num_epochs}\", leave=False)\n",
    "    \n",
    "    for images, labels in pbar:\n",
    "        images, labels = images.to(device), labels.to(device)\n",
    "        \n",
    "        optimizer.zero_grad()\n",
    "        outputs = model(images)\n",
    "        loss = criterion(outputs, labels)\n",
    "        loss.backward()\n",
    "        optimizer.step()\n",
    "        \n",
    "        running_loss += loss.item() * images.size(0)\n",
    "    \n",
    "    epoch_loss = running_loss / len(train_loader.dataset)\n",
    "    \n",
    "    # Validation\n",
    "    model.eval()\n",
    "    correct = 0\n",
    "    total = 0\n",
    "    all_preds = []\n",
    "    all_labels = []\n",
    "    with torch.no_grad():\n",
    "        for images, labels in test_loader:\n",
    "            images, labels = images.to(device), labels.to(device)\n",
    "            outputs = model(images)\n",
    "            _, predicted = torch.max(outputs, 1)\n",
    "            \n",
    "            total += labels.size(0)\n",
    "            correct += (predicted == labels).sum().item()\n",
    "            \n",
    "            all_preds.extend(predicted.cpu().numpy())\n",
    "            all_labels.extend(labels.cpu().numpy())\n",
    "    \n",
    "    test_acc = correct / total\n",
    "    precisions = precision_score(all_labels, all_preds, average=None, zero_division=0)\n",
    "    recalls = recall_score(all_labels, all_preds, average=None, zero_division=0)\n",
    "    test_targets = [test_dataset[i][1] for i in range(len(test_dataset))]\n",
    "    test_class_counts = np.bincount(test_targets, minlength=len(dataset.classes))\n",
    "    \n",
    "    results_df = pd.DataFrame({\n",
    "        \"Class\": list(range(len(precisions))),\n",
    "        \"Precision\": precisions,\n",
    "        \"Sensitivity (Recall)\": recalls,\n",
    "        \"Class Size\": test_class_counts\n",
    "    })\n",
    "    \n",
    "    print(f\"\\nEpoch [{epoch+1}/{num_epochs}]\")\n",
    "    print(f\"Loss: {epoch_loss:.4f}, Test Accuracy: {test_acc:.4f}\")\n",
    "    print(results_df.to_string(index=False))\n"
   ]
  },
  {
   "cell_type": "code",
   "execution_count": 7,
   "id": "dd221e56-3310-4f18-9208-ee4797b47492",
   "metadata": {},
   "outputs": [
    {
     "name": "stdout",
     "output_type": "stream",
     "text": [
      "Saved 20 images per class into 'evaluation_samples/'\n"
     ]
    }
   ],
   "source": [
    "torch.save(model.state_dict(),\"trained_model.pth\")\n",
    "\n",
    "import os\n",
    "import shutil\n",
    "from collections import defaultdict\n",
    "from PIL import Image\n",
    "\n",
    "# Root folder where images will be saved\n",
    "output_dir = \"evaluation_samples\"\n",
    "os.makedirs(output_dir, exist_ok=True)\n",
    "\n",
    "# ✅ Track how many we saved per class\n",
    "saved_counts = defaultdict(int)\n",
    "max_per_class = 20\n",
    "num_classes = len(dataset.classes)\n",
    "\n",
    "# ✅ Iterate over test set and save images\n",
    "for i in range(len(test_dataset)):\n",
    "    img, label = test_dataset[i]\n",
    "\n",
    "    # Stop if we already saved enough for this class\n",
    "    if saved_counts[label] >= max_per_class:\n",
    "        continue\n",
    "\n",
    "    # Convert tensor to PIL Image if needed\n",
    "    if isinstance(img, torch.Tensor):\n",
    "        # Undo normalization before saving (optional, but looks better)\n",
    "        img = img.permute(1, 2, 0).numpy()\n",
    "        img = (img * [0.229, 0.224, 0.225]) + [0.485, 0.456, 0.406]  # unnormalize\n",
    "        img = (img * 255).clip(0, 255).astype(\"uint8\")\n",
    "        img = Image.fromarray(img)\n",
    "\n",
    "    # Create class folder\n",
    "    class_name = dataset.classes[label]\n",
    "    class_dir = os.path.join(output_dir, class_name)\n",
    "    os.makedirs(class_dir, exist_ok=True)\n",
    "\n",
    "    # Save image\n",
    "    img.save(os.path.join(class_dir, f\"{saved_counts[label]}.jpg\"))\n",
    "\n",
    "    saved_counts[label] += 1\n",
    "\n",
    "    # ✅ Stop if we collected enough for all classes\n",
    "    if all(saved_counts[c] >= max_per_class for c in range(num_classes)):\n",
    "        break\n",
    "\n",
    "print(f\"Saved {max_per_class} images per class into '{output_dir}/'\")\n"
   ]
  }
 ],
 "metadata": {
  "kernelspec": {
   "display_name": "Python 3 (ipykernel)",
   "language": "python",
   "name": "python3"
  },
  "language_info": {
   "codemirror_mode": {
    "name": "ipython",
    "version": 3
   },
   "file_extension": ".py",
   "mimetype": "text/x-python",
   "name": "python",
   "nbconvert_exporter": "python",
   "pygments_lexer": "ipython3",
   "version": "3.11.6"
  }
 },
 "nbformat": 4,
 "nbformat_minor": 5
}
